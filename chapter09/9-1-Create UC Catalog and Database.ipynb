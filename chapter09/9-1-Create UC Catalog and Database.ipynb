{
 "cells": [
  {
   "cell_type": "code",
   "execution_count": 0,
   "metadata": {
    "application/vnd.databricks.v1+cell": {
     "cellMetadata": {
      "byteLimit": 2048000,
      "rowLimit": 10000
     },
     "inputWidgets": {},
     "nuid": "5c30a5df-2525-4b8a-84f6-20f35e73845b",
     "showTitle": false,
     "tableResultSettingsMap": {},
     "title": ""
    }
   },
   "outputs": [],
   "source": [
    "%run ./9-Common-Code"
   ]
  },
  {
   "cell_type": "code",
   "execution_count": 0,
   "metadata": {
    "application/vnd.databricks.v1+cell": {
     "cellMetadata": {
      "byteLimit": 2048000,
      "rowLimit": 10000
     },
     "inputWidgets": {},
     "nuid": "2e4f5d6c-e958-44c5-bf86-cc9738e55cd8",
     "showTitle": false,
     "tableResultSettingsMap": {},
     "title": ""
    }
   },
   "outputs": [],
   "source": [
    "# Step 1- Create the Unity Catalog\n",
    "spark.sql(f\"\"\"\n",
    "  CREATE CATALOG IF NOT EXISTS `{CATALOG_NAME}`\n",
    "\"\"\")\n",
    "\n",
    "# Step 2 - Create the schema (a.k.a. database) within that catalog\n",
    "spark.sql(f\"\"\"\n",
    "  CREATE SCHEMA IF NOT EXISTS `{CATALOG_NAME}`.`{SCHEMA_NAME}`\n",
    "\"\"\")\n",
    "\n",
    "# 3) Switch your session to point at the new catalog + schema\n",
    "spark.sql(f\"USE CATALOG `{CATALOG_NAME}`\")\n",
    "spark.sql(f\"USE SCHEMA `{SCHEMA_NAME}`\")\n",
    "\n",
    "# 4) Verify that we created our catalog and schema\n",
    "print(\"Catalogs:\")\n",
    "display(spark.sql(\"SHOW CATALOGS\"))\n",
    "\n",
    "print(f\"Schemas in {CATALOG_NAME}:\")\n",
    "display(spark.sql(f\"SHOW SCHEMAS IN `{CATALOG_NAME}`\"))\n"
   ]
  }
 ],
 "metadata": {
  "application/vnd.databricks.v1+notebook": {
   "computePreferences": null,
   "dashboards": [],
   "environmentMetadata": {
    "base_environment": "",
    "environment_version": "2"
   },
   "inputWidgetPreferences": null,
   "language": "python",
   "notebookMetadata": {
    "pythonIndentUnit": 4
   },
   "notebookName": "9-1-Create UC Catalog and Database",
   "widgets": {}
  },
  "language_info": {
   "name": "python"
  }
 },
 "nbformat": 4,
 "nbformat_minor": 0
}
