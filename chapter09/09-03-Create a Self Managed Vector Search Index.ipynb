{
 "cells": [
  {
   "cell_type": "code",
   "execution_count": 0,
   "metadata": {
    "application/vnd.databricks.v1+cell": {
     "cellMetadata": {
      "byteLimit": 2048000,
      "rowLimit": 10000
     },
     "inputWidgets": {},
     "nuid": "9a6767f4-75f7-4acf-98c3-2a00060451a6",
     "showTitle": false,
     "tableResultSettingsMap": {},
     "title": ""
    }
   },
   "outputs": [],
   "source": [
    "%pip install hnswlib"
   ]
  },
  {
   "cell_type": "code",
   "execution_count": 0,
   "metadata": {
    "application/vnd.databricks.v1+cell": {
     "cellMetadata": {
      "byteLimit": 2048000,
      "rowLimit": 10000
     },
     "inputWidgets": {},
     "nuid": "42bcd18e-88f8-4ad9-9163-9b07b1b53376",
     "showTitle": false,
     "tableResultSettingsMap": {},
     "title": ""
    }
   },
   "outputs": [],
   "source": [
    "dbutils.library.restartPython() "
   ]
  },
  {
   "cell_type": "markdown",
   "metadata": {
    "application/vnd.databricks.v1+cell": {
     "cellMetadata": {},
     "inputWidgets": {},
     "nuid": "3a4ea2c7-e65d-4fc0-99f2-edeb3c418763",
     "showTitle": false,
     "tableResultSettingsMap": {},
     "title": ""
    }
   },
   "source": [
    "\n",
    "In this notebook we’ll:\n",
    "  1. Load our cleaned, chunked Wikipedia embeddings from Delta  \n",
    "  2. Build a fast HNSW index in Python (using `hnswlib`)  \n",
    "  3. Persist the index to DBFS  \n",
    "  4. Define and demo a simple search function "
   ]
  },
  {
   "cell_type": "code",
   "execution_count": 0,
   "metadata": {
    "application/vnd.databricks.v1+cell": {
     "cellMetadata": {
      "byteLimit": 2048000,
      "rowLimit": 10000
     },
     "inputWidgets": {},
     "nuid": "6eb1ff8b-f7ca-4c07-9e25-0752d83b035e",
     "showTitle": false,
     "tableResultSettingsMap": {},
     "title": ""
    }
   },
   "outputs": [],
   "source": [
    "%run ./9-Common-Code"
   ]
  },
  {
   "cell_type": "markdown",
   "metadata": {
    "application/vnd.databricks.v1+cell": {
     "cellMetadata": {},
     "inputWidgets": {},
     "nuid": "84bd5c18-babc-4bb1-ad7e-fac5715acb5f",
     "showTitle": false,
     "tableResultSettingsMap": {},
     "title": ""
    }
   },
   "source": [
    "#Imports and Configuration"
   ]
  },
  {
   "cell_type": "code",
   "execution_count": 0,
   "metadata": {
    "application/vnd.databricks.v1+cell": {
     "cellMetadata": {
      "byteLimit": 2048000,
      "rowLimit": 10000
     },
     "inputWidgets": {},
     "nuid": "c2d78158-f228-458c-b81d-c46ee7b778b6",
     "showTitle": false,
     "tableResultSettingsMap": {},
     "title": ""
    }
   },
   "outputs": [],
   "source": [
    "import os\n",
    "import numpy as np\n",
    "import pandas as pd\n",
    "import hnswlib\n",
    "\n",
    "from pyspark.sql import SparkSession\n",
    "from pyspark.sql.functions import col\n",
    "\n",
    "# Adjust these to match your workspace\n",
    "CATALOG = \"book_ai_ml_lakehouse\"\n",
    "SCHEMA  = \"rag\"\n",
    "TABLE   = f\"{CATALOG}.{SCHEMA}.lab_wikipedia_text_embeddings\"\n",
    "INDEX_PATH = \"/dbfs/vector_index/wiki_hnsw.bin\""
   ]
  },
  {
   "cell_type": "markdown",
   "metadata": {
    "application/vnd.databricks.v1+cell": {
     "cellMetadata": {},
     "inputWidgets": {},
     "nuid": "c0fb6f21-53a3-4dee-8cda-fc803725612b",
     "showTitle": false,
     "tableResultSettingsMap": {},
     "title": ""
    }
   },
   "source": [
    "# Load Embeddings into Pandas"
   ]
  },
  {
   "cell_type": "code",
   "execution_count": 0,
   "metadata": {
    "application/vnd.databricks.v1+cell": {
     "cellMetadata": {
      "byteLimit": 2048000,
      "rowLimit": 10000
     },
     "inputWidgets": {},
     "nuid": "779b064b-d9c8-499f-8a53-576aaf10356c",
     "showTitle": false,
     "tableResultSettingsMap": {},
     "title": ""
    }
   },
   "outputs": [],
   "source": [
    "# Fully-qualified table name, maybe defined earlier\n",
    "TABLE = f\"{CATALOG_NAME}.{SCHEMA_NAME}.lab_wikipedia_text_embeddings\"\n",
    "\n",
    "# Read it into a DataFrame and pick just the columns you need\n",
    "df = spark.table(TABLE).select(\n",
    "    \"id\",\n",
    "    \"article_title\",\n",
    "    \"url\",\n",
    "    \"content\",\n",
    "    \"embedding\"\n",
    ")\n",
    "\n",
    "df.show()"
   ]
  },
  {
   "cell_type": "markdown",
   "metadata": {
    "application/vnd.databricks.v1+cell": {
     "cellMetadata": {},
     "inputWidgets": {},
     "nuid": "19bea12b-0e6d-46f5-8a64-6a1b2b72bfd1",
     "showTitle": false,
     "tableResultSettingsMap": {},
     "title": ""
    }
   },
   "source": [
    "# Convert to Pandas for in-memory indexing"
   ]
  },
  {
   "cell_type": "code",
   "execution_count": 0,
   "metadata": {
    "application/vnd.databricks.v1+cell": {
     "cellMetadata": {
      "byteLimit": 2048000,
      "rowLimit": 10000
     },
     "inputWidgets": {},
     "nuid": "5a4fbb84-fefd-42ba-8364-77ab1fa61939",
     "showTitle": false,
     "tableResultSettingsMap": {},
     "title": ""
    }
   },
   "outputs": [],
   "source": [
    "pdf = df.toPandas()\n",
    "ids         = pdf[\"id\"].to_numpy(dtype=int)\n",
    "vectors     = np.vstack(pdf[\"embedding\"].values)\n",
    "metadata_df = pdf[[\"id\",\"article_title\",\"url\",\"content\"]].set_index(\"id\")\n",
    "\n",
    "print(f\"Loaded {len(ids)} vectors, dim={vectors.shape[1]}\")"
   ]
  },
  {
   "cell_type": "markdown",
   "metadata": {
    "application/vnd.databricks.v1+cell": {
     "cellMetadata": {},
     "inputWidgets": {},
     "nuid": "36210400-a167-453d-bb98-c5c3a32f01de",
     "showTitle": false,
     "tableResultSettingsMap": {},
     "title": ""
    }
   },
   "source": [
    "# BUild the HNSW Index"
   ]
  },
  {
   "cell_type": "code",
   "execution_count": 0,
   "metadata": {
    "application/vnd.databricks.v1+cell": {
     "cellMetadata": {
      "byteLimit": 2048000,
      "rowLimit": 10000
     },
     "inputWidgets": {},
     "nuid": "440eff24-c791-4352-9227-ce2c4e75c40b",
     "showTitle": false,
     "tableResultSettingsMap": {},
     "title": ""
    }
   },
   "outputs": [],
   "source": [
    "dim = vectors.shape[1]\n",
    "max_elements = len(ids)\n",
    "\n",
    "# Initialize HNSW index (cosine distance)\n",
    "index = hnswlib.Index(space='cosine', dim=dim)\n",
    "index.init_index(max_elements=max_elements, ef_construction=200, M=16)\n",
    "index.add_items(vectors, ids)\n",
    "index.set_ef(50)  # query-time accuracy/speed trade-off\n",
    "\n",
    "print(\"HNSW index built.\")"
   ]
  },
  {
   "cell_type": "markdown",
   "metadata": {
    "application/vnd.databricks.v1+cell": {
     "cellMetadata": {},
     "inputWidgets": {},
     "nuid": "76c6af6e-3bf8-4b6e-8a9b-516aaa663076",
     "showTitle": false,
     "tableResultSettingsMap": {},
     "title": ""
    }
   },
   "source": [
    "# Persist the index"
   ]
  },
  {
   "cell_type": "code",
   "execution_count": 0,
   "metadata": {
    "application/vnd.databricks.v1+cell": {
     "cellMetadata": {
      "byteLimit": 2048000,
      "rowLimit": 10000
     },
     "inputWidgets": {},
     "nuid": "5226909e-0f55-4db1-ad54-792d22b13568",
     "showTitle": false,
     "tableResultSettingsMap": {},
     "title": ""
    }
   },
   "outputs": [],
   "source": [
    "os.makedirs(os.path.dirname(INDEX_PATH), exist_ok=True)\n",
    "index.save_index(INDEX_PATH)\n",
    "print(f\"Index saved to {INDEX_PATH}\")"
   ]
  },
  {
   "cell_type": "markdown",
   "metadata": {
    "application/vnd.databricks.v1+cell": {
     "cellMetadata": {},
     "inputWidgets": {},
     "nuid": "9aad1959-318d-44b5-b49e-c88df3ec8e7b",
     "showTitle": false,
     "tableResultSettingsMap": {},
     "title": ""
    }
   },
   "source": [
    "# Define a search Function"
   ]
  },
  {
   "cell_type": "code",
   "execution_count": 0,
   "metadata": {
    "application/vnd.databricks.v1+cell": {
     "cellMetadata": {
      "byteLimit": 2048000,
      "rowLimit": 10000
     },
     "inputWidgets": {},
     "nuid": "8dc6565b-0071-4b65-99a9-7c729181a951",
     "showTitle": false,
     "tableResultSettingsMap": {},
     "title": ""
    }
   },
   "outputs": [],
   "source": [
    "def load_index(path=INDEX_PATH):\n",
    "    idx = hnswlib.Index(space='cosine', dim=dim)\n",
    "    idx.load_index(path)\n",
    "    idx.set_ef(50)\n",
    "    return idx\n",
    "\n",
    "def embed_query(text: str) -> np.ndarray:\n",
    "    # Replace this stub with your real embedding call,\n",
    "    # e.g. mlflow.deployments.predict or OpenAI embedding API.\n",
    "    from mlflow.deployments import get_deploy_client\n",
    "    client = get_deploy_client(\"databricks\")\n",
    "    out = client.predict(endpoint=\"databricks-bge-large-en\", inputs={\"input\":[text]})\n",
    "    return np.array(out.data[0][\"embedding\"], dtype=np.float32)\n",
    "\n",
    "def search(text: str, k: int = 5):\n",
    "    idx = load_index()\n",
    "    qv  = embed_query(text)\n",
    "    labels, distances = idx.knn_query(qv, k=k)\n",
    "    results = []\n",
    "    for lbl, dist in zip(labels[0], distances[0]):\n",
    "        row = metadata_df.loc[int(lbl)]\n",
    "        results.append({\n",
    "            \"id\": int(lbl),\n",
    "            \"score\": float(1 - dist),  # cosine similarity\n",
    "            \"title\": row[\"article_title\"],\n",
    "            \"url\": row[\"url\"],\n",
    "            \"snippet\": row[\"content\"][:200] + \"…\"\n",
    "        })\n",
    "    return pd.DataFrame(results)\n"
   ]
  },
  {
   "cell_type": "markdown",
   "metadata": {
    "application/vnd.databricks.v1+cell": {
     "cellMetadata": {},
     "inputWidgets": {},
     "nuid": "f22e9502-8b90-4250-b1db-9a121c05867a",
     "showTitle": false,
     "tableResultSettingsMap": {},
     "title": ""
    }
   },
   "source": [
    "Demo Query"
   ]
  },
  {
   "cell_type": "code",
   "execution_count": 0,
   "metadata": {
    "application/vnd.databricks.v1+cell": {
     "cellMetadata": {
      "byteLimit": 2048000,
      "rowLimit": 10000
     },
     "inputWidgets": {},
     "nuid": "118cf0c3-2674-4660-a1de-b988c42bd558",
     "showTitle": false,
     "tableResultSettingsMap": {},
     "title": ""
    }
   },
   "outputs": [],
   "source": [
    "query = \"What is reinforcement learning?\"\n",
    "df_results = search(query, k=5)\n",
    "display(df_results)"
   ]
  },
  {
   "cell_type": "code",
   "execution_count": 0,
   "metadata": {
    "application/vnd.databricks.v1+cell": {
     "cellMetadata": {},
     "inputWidgets": {},
     "nuid": "b0703f91-e9f2-4d70-9e65-939f6883cb9d",
     "showTitle": false,
     "tableResultSettingsMap": {},
     "title": ""
    }
   },
   "outputs": [],
   "source": []
  }
 ],
 "metadata": {
  "application/vnd.databricks.v1+notebook": {
   "computePreferences": null,
   "dashboards": [],
   "environmentMetadata": {
    "base_environment": "",
    "environment_version": "2"
   },
   "inputWidgetPreferences": null,
   "language": "python",
   "notebookMetadata": {
    "pythonIndentUnit": 4
   },
   "notebookName": "09-03-Create a Self Managed Vector Search Index",
   "widgets": {}
  },
  "language_info": {
   "name": "python"
  }
 },
 "nbformat": 4,
 "nbformat_minor": 0
}
