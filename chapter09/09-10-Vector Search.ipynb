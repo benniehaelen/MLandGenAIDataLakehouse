{
 "cells": [
  {
   "cell_type": "code",
   "execution_count": 0,
   "metadata": {
    "application/vnd.databricks.v1+cell": {
     "cellMetadata": {
      "byteLimit": 2048000,
      "rowLimit": 10000
     },
     "inputWidgets": {},
     "nuid": "ee044e1e-1651-40df-87ff-08233936eae5",
     "showTitle": false,
     "tableResultSettingsMap": {},
     "title": ""
    }
   },
   "outputs": [],
   "source": [
    "%pip install -U -qq databricks-vectorsearch databricks-sdk flashrank PyPDF2\n",
    "dbutils.library.restartPython()"
   ]
  },
  {
   "cell_type": "code",
   "execution_count": 0,
   "metadata": {
    "application/vnd.databricks.v1+cell": {
     "cellMetadata": {
      "byteLimit": 2048000,
      "rowLimit": 10000
     },
     "inputWidgets": {},
     "nuid": "e1621131-32fd-4b26-88a7-2e64132e0f8d",
     "showTitle": false,
     "tableResultSettingsMap": {},
     "title": ""
    }
   },
   "outputs": [],
   "source": [
    "%run ./9-Common-Code"
   ]
  },
  {
   "cell_type": "code",
   "execution_count": 0,
   "metadata": {
    "application/vnd.databricks.v1+cell": {
     "cellMetadata": {
      "byteLimit": 2048000,
      "rowLimit": 10000
     },
     "inputWidgets": {},
     "nuid": "fe69c17c-97db-4155-bc22-7b60f398f08b",
     "showTitle": false,
     "tableResultSettingsMap": {},
     "title": ""
    }
   },
   "outputs": [],
   "source": [
    "import time\n",
    "\n",
    "def wait_for_vs_endpoint_to_be_ready(vsc, vs_endpoint_name, retries: int = 180, pause_sec: int = 10):\n",
    "    \"\"\"\n",
    "    Polls the VectorSearchClient until the endpoint's state becomes ONLINE.\n",
    "    Raises if it errors out or if we exceed the retry count.\n",
    "    \"\"\"\n",
    "    for i in range(retries):\n",
    "        endpoint = vsc.get_endpoint(vs_endpoint_name)\n",
    "        # SDK may surface status under either \"endpoint_status\" or \"status\"\n",
    "        st = endpoint.get(\"endpoint_status\", endpoint.get(\"status\", {})).get(\"state\", \"\").upper()\n",
    "        if st == \"ONLINE\":\n",
    "            return endpoint\n",
    "        if st in (\"PROVISIONING\", \"\") or i < 6:\n",
    "            if i % 10 == 0:\n",
    "                print(f\"[{i:>3}] Endpoint {vs_endpoint_name} is {st!r}, waiting...\")\n",
    "            time.sleep(pause_sec)\n",
    "        else:\n",
    "            raise RuntimeError(f\"Endpoint entered unexpected state {st!r}: {endpoint}\")\n",
    "    # final check / timeout\n",
    "    raise TimeoutError(f\"Timed out waiting for endpoint {vs_endpoint_name}: last status {st!r}\")\n"
   ]
  },
  {
   "cell_type": "code",
   "execution_count": 0,
   "metadata": {
    "application/vnd.databricks.v1+cell": {
     "cellMetadata": {
      "byteLimit": 2048000,
      "rowLimit": 10000
     },
     "inputWidgets": {},
     "nuid": "2c17e5be-9963-444c-bec2-84a3509487b4",
     "showTitle": false,
     "tableResultSettingsMap": {},
     "title": ""
    }
   },
   "outputs": [],
   "source": [
    "from databricks.vector_search.client import VectorSearchClient\n",
    "\n",
    "# Use your current Databricks user or service principal for auth\n",
    "client = VectorSearchClient()\n",
    "\n",
    "# Create a “STANDARD” or “STORAGE_OPTIMIZED” endpoint\n",
    "client.create_endpoint(\n",
    "    name=VECTOR_SEARCH_ENDPOINT_NAME,\n",
    "    endpoint_type=\"STANDARD\"\n",
    ")\n",
    "\n",
    "# check the status of the endpoint\n",
    "wait_for_vs_endpoint_to_be_ready(client, VECTOR_SEARCH_ENDPOINT_NAME)\n",
    "print(f\"Endpoint named {VECTOR_SEARCH_ENDPOINT_NAME} is ready.\")"
   ]
  },
  {
   "cell_type": "code",
   "execution_count": 0,
   "metadata": {
    "application/vnd.databricks.v1+cell": {
     "cellMetadata": {
      "byteLimit": 2048000,
      "rowLimit": 10000
     },
     "inputWidgets": {},
     "nuid": "b784783f-9568-4155-9d5b-93ed70591e6d",
     "showTitle": false,
     "tableResultSettingsMap": {},
     "title": ""
    }
   },
   "outputs": [],
   "source": [
    "# the table we'd like to index\n",
    "source_table_fullname = f\"{CATALOG_NAME}.{SCHEMA_NAME}.lab_wikipedia_text_embeddings\"\n",
    "\n",
    "# where we want to store our index\n",
    "vs_index_fullname = f\"{CATALOG_NAME}.{SCHEMA_NAME}.lab_wikipedia_self_managed_vs_index\"\n",
    "\n",
    "# create or sync the index\n",
    "if not index_exists(vsc, vs_endpoint_name, vs_index_fullname):\n",
    "  print(f\"Creating index {vs_index_fullname} on endpoint {vs_endpoint_name}...\")\n",
    "  vsc.create_delta_sync_index(\n",
    "    endpoint_name=vs_endpoint_name,\n",
    "    index_name=vs_index_fullname,\n",
    "    source_table_name=source_table_fullname,\n",
    "    pipeline_type=\"TRIGGERED\", #Sync needs to be manually triggered\n",
    "    primary_key=\"id\",\n",
    "    embedding_dimension=1024, #Match your model embedding size (gte)\n",
    "    embedding_vector_column=\"embedding\"\n",
    "  )\n",
    "else:\n",
    "  # trigger a sync to update our vs content with the new data saved in the table\n",
    "  vsc.get_index(vs_endpoint_name, vs_index_fullname).sync()\n",
    "\n",
    "# let's wait for the index to be ready and all our embeddings to be created and indexed\n",
    "wait_for_index_to_be_ready(vsc, vs_endpoint_name, vs_index_fullname)"
   ]
  },
  {
   "cell_type": "code",
   "execution_count": 0,
   "metadata": {
    "application/vnd.databricks.v1+cell": {
     "cellMetadata": {},
     "inputWidgets": {},
     "nuid": "ad0bfdf0-45f5-49c2-95de-d87363957f4a",
     "showTitle": false,
     "tableResultSettingsMap": {},
     "title": ""
    }
   },
   "outputs": [],
   "source": [
    "import mlflow.deployments\n",
    "\n",
    "deploy_client = mlflow.deployments.get_deploy_client(\"databricks\")\n",
    "question = \"How Generative AI impacts humans?\"\n",
    "response = deploy_client.predict(endpoint=\"databricks-gte-large-en\", inputs={\"input\": [question]})\n",
    "embeddings = [e[\"embedding\"] for e in response.data]\n",
    "print(embeddings)"
   ]
  },
  {
   "cell_type": "code",
   "execution_count": 0,
   "metadata": {
    "application/vnd.databricks.v1+cell": {
     "cellMetadata": {},
     "inputWidgets": {},
     "nuid": "6aff38aa-f9ee-4c7f-98b4-4959c84781fa",
     "showTitle": false,
     "tableResultSettingsMap": {},
     "title": ""
    }
   },
   "outputs": [],
   "source": [
    "# get similar 5 documents.\n",
    "results = vsc.get_index(vs_endpoint_name, vs_index_fullname).similarity_search(\n",
    "  query_vector=embeddings[0],\n",
    "  columns=[\"pdf_name\", \"content\"],\n",
    "  num_results=5)\n",
    "\n",
    "# format result to align with reranker lib format. \n",
    "passages = []\n",
    "for doc in results.get(\"result\", {}).get(\"data_array\", []):\n",
    "    new_doc = {\"file\": doc[0], \"text\": doc[1]}\n",
    "    passages.append(new_doc)\n",
    "\n",
    "pprint(passages)"
   ]
  },
  {
   "cell_type": "code",
   "execution_count": 0,
   "metadata": {
    "application/vnd.databricks.v1+cell": {
     "cellMetadata": {},
     "inputWidgets": {},
     "nuid": "88d75cf9-2801-41a1-80c1-29902d48f51d",
     "showTitle": false,
     "tableResultSettingsMap": {},
     "title": ""
    }
   },
   "outputs": [],
   "source": [
    "from flashrank import Ranker, RerankRequest\n",
    "\n",
    "# Ensure the model file exists at this path or update the path accordingly\n",
    "cache_dir = f\"{DA.paths.working_dir}/opt\"\n",
    "\n",
    "ranker = Ranker(model_name=\"rank-T5-flan\", cache_dir=cache_dir)\n",
    "\n",
    "rerankrequest = RerankRequest(query=question, passages=passages)\n",
    "results = ranker.rerank(rerankrequest)\n",
    "print(*results[:3], sep=\"\\n\\n\")"
   ]
  }
 ],
 "metadata": {
  "application/vnd.databricks.v1+notebook": {
   "computePreferences": null,
   "dashboards": [],
   "environmentMetadata": {
    "base_environment": "",
    "environment_version": "2"
   },
   "inputWidgetPreferences": null,
   "language": "python",
   "notebookMetadata": {
    "pythonIndentUnit": 4
   },
   "notebookName": "09-10-Vector Search",
   "widgets": {}
  },
  "language_info": {
   "name": "python"
  }
 },
 "nbformat": 4,
 "nbformat_minor": 0
}
